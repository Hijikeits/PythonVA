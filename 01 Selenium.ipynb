{
 "cells": [
  {
   "cell_type": "code",
   "execution_count": 240,
   "metadata": {},
   "outputs": [],
   "source": [
    "import random\n",
    "from time import sleep\n",
    "from selenium import webdriver\n",
    "from selenium.webdriver import ActionChains\n",
    "import pandas as pd\n",
    "import time\n",
    "import numpy as np"
   ]
  },
  {
   "cell_type": "code",
   "execution_count": 728,
   "metadata": {},
   "outputs": [],
   "source": [
    "from selenium.common.exceptions import NoSuchElementException        \n",
    "def check_exists_by_class(clas):\n",
    "    try:\n",
    "        driver.find_element_by_class_name(clas)\n",
    "    except NoSuchElementException:\n",
    "        return False\n",
    "    return True"
   ]
  },
  {
   "cell_type": "code",
   "execution_count": 763,
   "metadata": {},
   "outputs": [],
   "source": [
    "def check_exists_by_xpath(xpath):\n",
    "    try:\n",
    "        driver.find_element_by_xpath(xpath)\n",
    "    except NoSuchElementException:\n",
    "        return False\n",
    "    return True"
   ]
  },
  {
   "cell_type": "code",
   "execution_count": 254,
   "metadata": {},
   "outputs": [],
   "source": [
    "def monthdelta(date, delta):\n",
    "    m, y = (date.month+delta) % 12, date.year + ((date.month)+delta-1) // 12\n",
    "    if not m: m = 12\n",
    "    d = min(date.day, [31,\n",
    "        29 if y%4==0 and (not y%100==0 or y%400 == 0) else 28,\n",
    "        31,30,31,30,31,31,30,31,30,31][m-1])\n",
    "    return date.replace(day=1,month=m, year=y)\n",
    "\n"
   ]
  },
  {
   "cell_type": "code",
   "execution_count": 860,
   "metadata": {},
   "outputs": [],
   "source": [
    "def partidas (pos):\n",
    "    temp_codigo=data['codigo'].iloc[pos]\n",
    "    partida=driver.find_element_by_id(\"txtNandinaB\")\n",
    "    partida.send_keys(temp_codigo)\n",
    "    \n",
    "    time.sleep(3)\n",
    "    #partidaelegida =  driver.find_element_by_class_name(\"ui-menu-item-wrapper\")\n",
    "    #partidaelegida.click()\n",
    "    \n",
    "    partidaelegida = driver.find_element_by_css_selector('li.ui-menu-item')\n",
    "    partidaelegida.click()\n",
    "    "
   ]
  },
  {
   "cell_type": "code",
   "execution_count": 831,
   "metadata": {},
   "outputs": [],
   "source": [
    "def grilla_df():\n",
    "    xpath=[]\n",
    "    for tran in range(7, 1, -1):\n",
    "        xpath='//*[@id=\"pagingTabDetalleExcel\"]/li['+str(tran)+']/a'\n",
    "        if check_exists_by_xpath(xpath):\n",
    "            break\n",
    "\n",
    "    ContinueExecuting = True\n",
    "    while ContinueExecuting:\n",
    "        #Codigo extra aqui dependiendo de la situacion\n",
    "        add_to_tabla_matrix()\n",
    "        time.sleep(5)\n",
    "        if not check_exists_by_class(\"page-item.next.disabled\"):\n",
    "            paginado = driver.find_element_by_xpath(xpath)\n",
    "            paginado.click() # get the data and write it to scrapy items\n",
    "            time.sleep(5)             \n",
    "        else:\n",
    "            ContinueExecuting = False\n",
    "\n",
    "\n"
   ]
  },
  {
   "cell_type": "code",
   "execution_count": 876,
   "metadata": {},
   "outputs": [],
   "source": [
    " def iteracciones():\n",
    "    print('entro interacciones')\n",
    "    cont=0\n",
    "    rango_data_it= (data['codigo'].count()/10)\n",
    "    rango_data_it= int(np.ceil(rango_data_it))\n",
    "    for j in range(rango_data_it):\n",
    "        for i in range(10):\n",
    "            partidas(cont)\n",
    "            temp_codigo=data['codigo'].iloc[i]\n",
    "            # print (\"Nro \"+ str(cont) +\" -codigo:\"+temp_codigo)\n",
    "            cont=cont+1\n",
    "            if((i+1) % 10 == 0):\n",
    "                break\n",
    "            if cont == len(data):\n",
    "                break\n",
    "        time.sleep(10)\n",
    "        exportar()\n",
    "        clickrestablecer= driver.find_element_by_id(\"btnRestablecer\")\n",
    "        clickrestablecer.click()#//*[@id=\"btnRestablecer\"]\n",
    "        time.sleep(10)\n",
    "    print('finalizo interacciones')\n",
    "    \n"
   ]
  },
  {
   "cell_type": "code",
   "execution_count": 816,
   "metadata": {},
   "outputs": [],
   "source": [
    "def add_to_tabla_matrix():\n",
    "    table = driver.find_element_by_id(\"gridDetalleExcel\")\n",
    "           # now get all the TR elements from the table\n",
    "    all_rows = table.find_elements_by_tag_name(\"tr\")\n",
    "    global df\n",
    "    temp=[]\n",
    "    for row in all_rows:\n",
    "        nro=''      # and iterate over them, getting the cells\n",
    "        fecha=''\n",
    "        partida=''\n",
    "        exportador=''\n",
    "        importador=''\n",
    "        kgneto=''\n",
    "        cantidad=''\n",
    "        unid=''\n",
    "        fob=''\n",
    "        dua=''\n",
    "        pais=''\n",
    "        descripcion=''\n",
    "        cells = row.find_elements_by_tag_name(\"td\")\n",
    "        cont=0\n",
    "        for value in cells:\n",
    "            if cont==0:\n",
    "                nro= value.text\n",
    "            if cont==1:\n",
    "                fecha= value.text\n",
    "            if cont==2:\n",
    "                partida= value.text\n",
    "            if cont==3:\n",
    "                exportador= value.text\n",
    "            if cont==4:\n",
    "                importador= value.text\n",
    "            if cont==5:\n",
    "                kgneto= value.text\n",
    "            if cont==6:\n",
    "                cantidad= value.text\n",
    "            if cont==7:\n",
    "                unid= value.text\n",
    "            if cont==8:\n",
    "                fob= value.text\n",
    "            if cont==9:\n",
    "                dua= value.text\n",
    "            if cont==10:\n",
    "                pais= value.text\n",
    "            if cont==11:\n",
    "                descripcion= value.text\n",
    "            temp.append(str(cont)+\"†\"+value.text )\n",
    "            cont=cont+1\n",
    "            if cont==12:\n",
    "                break    \n",
    "        if nro:\n",
    "            df=df.append({'nro':nro,'fecha':fecha,'partida':partida,'exportador':exportador,'importador':importador,'kgneto':kgneto,'cantidad':cantidad,'unid':unid,'fob':fob,'dua':dua,'pais':pais,'descripcion':descripcion}, ignore_index=True)\n",
    "        #de= de.append({'nro':1,'fecha':2,'partida':3},ignore_index=True)\n",
    "   \n",
    "\n",
    "    \n",
    "            \n"
   ]
  },
  {
   "cell_type": "code",
   "execution_count": 874,
   "metadata": {},
   "outputs": [],
   "source": [
    "def exportar():\n",
    "    print('entro exportar')\n",
    "    calendarioini=driver.find_element_by_xpath('//*[@id=\"cboDesde\"]/div/span') \n",
    "    calendarioini.click()\n",
    "    \n",
    "    time.sleep(1)\n",
    "    if hoy.month<=2:\n",
    "        previous=driver.find_element_by_xpath('/html/body/div[7]/div[2]/table/thead/tr[2]/th[1]')\n",
    "        ActionChains(driver).click(previous).perform()\n",
    "    time.sleep(1)\n",
    "    python_botton = driver.find_elements_by_class_name(\"month\")[mes]\n",
    "    python_botton.click()\n",
    "    time.sleep(1)\n",
    "    calendariofin=driver.find_element_by_xpath('//*[@id=\"cboHasta\"]/div/span') \n",
    "    calendariofin.click()\n",
    "    time.sleep(1)\n",
    "    python_botton = driver.find_elements_by_class_name(\"month\")[hoy.month-1]\n",
    "    python_botton.click()\n",
    "    time.sleep(1)\n",
    "    clickbuscar= driver.find_element_by_id(\"btnBuscar\")\n",
    "    clickbuscar.click()\n",
    "    time.sleep(5)\n",
    "            \n",
    "    clickbuscar= driver.find_element_by_id(\"tabDetalleExcel\")\n",
    "    clickbuscar.click()#//*[@id=\"tabDetalleExcel\"]\n",
    "\n",
    "            \n",
    "    time.sleep(5)\n",
    "    clickexportar= driver.find_element_by_id(\"downloadFileVerRegistro2\")\n",
    "    clickexportar.click()#//*[@id=\"downloadFileVerRegistro2\"]/img\n",
    "    time.sleep(10)\n",
    "    \n",
    "    print('finalizo exportar')\n",
    "\n",
    "    "
   ]
  },
  {
   "cell_type": "code",
   "execution_count": 852,
   "metadata": {},
   "outputs": [],
   "source": [
    "#Variables\n",
    "df = pd.DataFrame(columns=['nro','fecha','partida','exportador','importador','kgneto','cantidad','unid','fob','dua','pais','descripcion'])\n",
    "data = pd.read_excel(\"Partidas.xlsx\")\n",
    "data = data[data['x']==0]\n",
    "hoy =  date.today()\n",
    "Fechabuscada= monthdelta(hoy, -2)\n",
    "mes = Fechabuscada.month-1\n",
    "año = Fechabuscada.year \n",
    "\n",
    "#Inicio\n",
    "driver=webdriver.Chrome('./chromedriver.exe')\n",
    "driver.get('https://www.veritradecorp.com/')\n",
    "clicklogin= driver.find_element_by_id(\"li_login\")\n",
    "clicklogin.click()\n",
    "time.sleep(5)\n",
    "\n",
    "usuario=driver.find_element_by_id(\"txtCodUsuario\")\n",
    "usuario.send_keys(\"pmartinto@villaandina.com\")\n",
    "contraseña = driver.find_element_by_id(\"txtPassword\")\n",
    "contraseña.send_keys(\"VILLAANDINA1\")\n",
    "\n",
    "clicklogin2= driver.find_element_by_id(\"login_button\")\n",
    "clicklogin2.click()\n",
    "\n",
    "time.sleep(5)\n",
    "clickradioexp =driver.find_element_by_id(\"rdbExp\")\n",
    "clickradioexp.click()\n",
    "\n",
    "\n"
   ]
  },
  {
   "cell_type": "code",
   "execution_count": 877,
   "metadata": {},
   "outputs": [
    {
     "name": "stdout",
     "output_type": "stream",
     "text": [
      "entro interacciones\n",
      "entro exportar\n",
      "finalizo exportar\n",
      "entro exportar\n",
      "finalizo exportar\n",
      "finalizo interacciones\n"
     ]
    }
   ],
   "source": [
    "#Exportacion\n",
    "time.sleep(10)\n",
    "iteracciones()\n",
    "time.sleep(5)\n",
    "\n"
   ]
  },
  {
   "cell_type": "code",
   "execution_count": 422,
   "metadata": {},
   "outputs": [],
   "source": [
    "#Cierre de Sesión\n",
    "ruedaconfig=driver.find_element_by_xpath('//*[@id=\"bs-example-navbar-collapse-1\"]/ul[2]/li[2]/a/span') \n",
    "ruedaconfig.click()\n",
    "time.sleep(3)\n",
    "cerrarsesion=driver.find_element_by_xpath('//*[@id=\"bs-example-navbar-collapse-1\"]/ul[2]/li[2]/ul/li[9]/a') \n",
    "cerrarsesion.click()\n",
    "\n",
    "\n"
   ]
  },
  {
   "cell_type": "code",
   "execution_count": 804,
   "metadata": {},
   "outputs": [],
   "source": [
    "df = pd.DataFrame(columns=['nro','fecha','partida','exportador',\n",
    "                           'importador','kgneto','cantidad','unid','fob','dua','pais','descripcion'])"
   ]
  },
  {
   "cell_type": "code",
   "execution_count": null,
   "metadata": {},
   "outputs": [],
   "source": []
  }
 ],
 "metadata": {
  "kernelspec": {
   "display_name": "Python 3",
   "language": "python",
   "name": "python3"
  },
  "language_info": {
   "codemirror_mode": {
    "name": "ipython",
    "version": 3
   },
   "file_extension": ".py",
   "mimetype": "text/x-python",
   "name": "python",
   "nbconvert_exporter": "python",
   "pygments_lexer": "ipython3",
   "version": "3.7.9"
  }
 },
 "nbformat": 4,
 "nbformat_minor": 2
}
