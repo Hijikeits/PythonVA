{
 "cells": [
  {
   "cell_type": "code",
   "execution_count": 12,
   "metadata": {},
   "outputs": [],
   "source": [
    "from os import walk, getcwd, path\n",
    "import re\n",
    "from datetime import date\n",
    "import os.path, time\n",
    "import pandas as pd\n",
    "import glob"
   ]
  },
  {
   "cell_type": "code",
   "execution_count": 14,
   "metadata": {},
   "outputs": [],
   "source": [
    "## Se define las variables y la ruta\n",
    "today= date.today()\n",
    "df = pd.DataFrame(columns=['Archivo','Fecha'])\n",
    "raiz = '../../Downloads/Veritrade_PMARTINTO@VILLAANDINA.COM_**'\n",
    "rutas = glob.glob(raiz, recursive=True)\n",
    "\n",
    "\n",
    "#Se define la iteraccion en donde se guarda los archivos descargados\n",
    "for ruta in rutas:\n",
    "    #nombre, extension = os.path.splitext(ruta)\n",
    "    tiempo2=pd.to_datetime(time.ctime(os.path.getmtime(ruta)))\n",
    "    df=df.append({'Archivo':ruta,'Fecha':tiempo2},ignore_index=True)\n",
    "\n",
    "df =   df[(df['Fecha'] >= pd.to_datetime(today))]#& (df['Fecha'] <= '2019-06-1')\n",
    "\n",
    "#Se genera el DataframeFinal antes de subirlo\n",
    "pdfinal = pd.DataFrame(columns=['Partida Aduanera','Descripcion de la Partida Aduanera','Aduana','DUA','Fecha','Cod. Tributario',\n",
    "                                'Exportador','Importador','Kg Bruto','Kg Neto','Qty 1','Und 1','Qty 2','Und 2','U$ FOB Tot',\n",
    "                                'U$ FOB Und 1','U$ FOB Und 2','Pais de Destino','Puerto de destino','Último Puerto Embarque',\n",
    "                                'Via','Agente Portuario','Agente de Aduana','Descripcion Comercial','Descripcion1','Descripcion2',\n",
    "                                'Descripcion3','Descripcion4','Descripcion5','Naviera','Agente Carga(Origen)',\n",
    "                                'Agente Carga(Destino)'])\n",
    "\n",
    "for index, row in df.iterrows():\n",
    "    #print(row['Archivo'], row['Fecha'])\n",
    "    pdxls=pd.read_excel(row['Archivo'])\n",
    "    pdxls.columns=['Partida Aduanera','Descripcion de la Partida Aduanera','Aduana','DUA','Fecha','Cod. Tributario',\n",
    "                                'Exportador','Importador','Kg Bruto','Kg Neto','Qty 1','Und 1','Qty 2','Und 2','U$ FOB Tot',\n",
    "                                'U$ FOB Und 1','U$ FOB Und 2','Pais de Destino','Puerto de destino','Último Puerto Embarque',\n",
    "                                'Via','Agente Portuario','Agente de Aduana','Descripcion Comercial','Descripcion1','Descripcion2',\n",
    "                                'Descripcion3','Descripcion4','Descripcion5','Naviera','Agente Carga(Origen)',\n",
    "                                'Agente Carga(Destino)']\n",
    "    pdxls = pdxls.iloc[5:]\n",
    "\n",
    "    pdfinal = pd.concat([pdfinal, pdxls] , ignore_index=True)\n"
   ]
  },
  {
   "cell_type": "code",
   "execution_count": 5,
   "metadata": {},
   "outputs": [
    {
     "name": "stderr",
     "output_type": "stream",
     "text": [
      "c:\\users\\cjmartinez\\.conda\\envs\\veritrade\\lib\\site-packages\\fuzzywuzzy\\fuzz.py:11: UserWarning: Using slow pure-python SequenceMatcher. Install python-Levenshtein to remove this warning\n",
      "  warnings.warn('Using slow pure-python SequenceMatcher. Install python-Levenshtein to remove this warning')\n"
     ]
    }
   ],
   "source": [
    "from fuzzywuzzy import fuzz,process\n",
    "\n",
    "def fuzzy_replace(str_a, str_b, orig_str):\n",
    "    l = len(str_a.split()) # Length to read orig_str chunk by chunk\n",
    "    splitted = orig_str.split()\n",
    "    for i in range(len(splitted)-l+1):\n",
    "        test = \" \".join(splitted[i:i+l])\n",
    "        if fuzz.ratio(str_a, test) > 75: #Using fuzzwuzzy library to test ratio\n",
    "            before = \" \".join(splitted[:i])\n",
    "            after = \" \".join(splitted[i+1:])\n",
    "            return before+\" \"+str_b+\" \"+after #Output will be sandwich of these three strings\n",
    "\n",
    "\n"
   ]
  },
  {
   "cell_type": "code",
   "execution_count": 15,
   "metadata": {},
   "outputs": [],
   "source": [
    "nombres=[]\n",
    "proporcion=[]\n",
    "dfimpor=pd.read_excel('Importadores.xlsx')"
   ]
  },
  {
   "cell_type": "code",
   "execution_count": 7,
   "metadata": {},
   "outputs": [],
   "source": [
    "def cambios(mal,bien):\n",
    "    for i in mal:\n",
    "        x=process.extractOne(i,bien)\n",
    "        nombres.append(x[0])\n",
    "        proporcion.append(x[1])\n",
    "    return nombres,proporcion"
   ]
  },
  {
   "cell_type": "code",
   "execution_count": 8,
   "metadata": {},
   "outputs": [],
   "source": [
    "bien=dfimpor['Importadores'].apply(str)\n",
    "mal=pdfinal['Importador'].apply(str)\n",
    "corregido,rango=cambios(mal,bien)"
   ]
  },
  {
   "cell_type": "code",
   "execution_count": 17,
   "metadata": {},
   "outputs": [],
   "source": [
    "pdfinal['Corregido']=pd.Series(corregido)\n",
    "pdfinal['Rango']=pd.Series(rango)"
   ]
  },
  {
   "cell_type": "code",
   "execution_count": 18,
   "metadata": {},
   "outputs": [],
   "source": [
    "pdexport=pdfinal[['Importador','Corregido','Rango']]\n",
    "\n"
   ]
  },
  {
   "cell_type": "code",
   "execution_count": 13,
   "metadata": {},
   "outputs": [],
   "source": [
    "writer = pd.ExcelWriter('demo.xlsx', engine='xlsxwriter')\n",
    "\n",
    "# Convert the dataframe to an XlsxWriter Excel object.\n",
    "pdexport.to_excel(writer, sheet_name='Sheet1', index=False)\n",
    "\n",
    "# Close the Pandas Excel writer and output the Excel file.\n",
    "writer.save()"
   ]
  },
  {
   "cell_type": "code",
   "execution_count": null,
   "metadata": {},
   "outputs": [],
   "source": []
  }
 ],
 "metadata": {
  "kernelspec": {
   "display_name": "Python 3",
   "language": "python",
   "name": "python3"
  },
  "language_info": {
   "codemirror_mode": {
    "name": "ipython",
    "version": 3
   },
   "file_extension": ".py",
   "mimetype": "text/x-python",
   "name": "python",
   "nbconvert_exporter": "python",
   "pygments_lexer": "ipython3",
   "version": "3.5.6"
  }
 },
 "nbformat": 4,
 "nbformat_minor": 4
}
